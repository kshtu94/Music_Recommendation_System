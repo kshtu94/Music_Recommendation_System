{
 "cells": [
  {
   "cell_type": "markdown",
   "id": "e0bb5b08",
   "metadata": {},
   "source": [
    "## We will utilize \"TCC CEDs Music Dataset\" which contains metadata about songs , including their genres , artists and lyrics"
   ]
  },
  {
   "cell_type": "code",
   "execution_count": 37,
   "id": "3e53c7ce",
   "metadata": {},
   "outputs": [],
   "source": [
    "import pandas as pd\n",
    "import numpy as np\n",
    "from sklearn.feature_extraction.text import TfidfVectorizer\n",
    "from sklearn.metrics.pairwise import cosine_similarity\n",
    "import matplotlib.pyplot as plt\n",
    "import seaborn as sns"
   ]
  },
  {
   "cell_type": "markdown",
   "id": "dd3af237",
   "metadata": {},
   "source": [
    "## Eploaratory Data Analysis\n",
    "\n",
    "Before building the recommendation system , we perform exploratory data analysis(EDA) to gain insights into the dataset.\n",
    "\n",
    "# Distribution of songs by Genre \n",
    "\n",
    "We visualize the top 10 genres in the dataset to understand diversity of songs."
   ]
  },
  {
   "cell_type": "code",
   "execution_count": 38,
   "id": "f8b1d10c",
   "metadata": {},
   "outputs": [
    {
     "data": {
      "text/html": [
       "<div>\n",
       "<style scoped>\n",
       "    .dataframe tbody tr th:only-of-type {\n",
       "        vertical-align: middle;\n",
       "    }\n",
       "\n",
       "    .dataframe tbody tr th {\n",
       "        vertical-align: top;\n",
       "    }\n",
       "\n",
       "    .dataframe thead th {\n",
       "        text-align: right;\n",
       "    }\n",
       "</style>\n",
       "<table border=\"1\" class=\"dataframe\">\n",
       "  <thead>\n",
       "    <tr style=\"text-align: right;\">\n",
       "      <th></th>\n",
       "      <th>Unnamed: 0</th>\n",
       "      <th>artist_name</th>\n",
       "      <th>track_name</th>\n",
       "      <th>release_date</th>\n",
       "      <th>genre</th>\n",
       "      <th>lyrics</th>\n",
       "      <th>len</th>\n",
       "      <th>dating</th>\n",
       "      <th>violence</th>\n",
       "      <th>world/life</th>\n",
       "      <th>...</th>\n",
       "      <th>sadness</th>\n",
       "      <th>feelings</th>\n",
       "      <th>danceability</th>\n",
       "      <th>loudness</th>\n",
       "      <th>acousticness</th>\n",
       "      <th>instrumentalness</th>\n",
       "      <th>valence</th>\n",
       "      <th>energy</th>\n",
       "      <th>topic</th>\n",
       "      <th>age</th>\n",
       "    </tr>\n",
       "  </thead>\n",
       "  <tbody>\n",
       "    <tr>\n",
       "      <th>0</th>\n",
       "      <td>0</td>\n",
       "      <td>mukesh</td>\n",
       "      <td>mohabbat bhi jhoothi</td>\n",
       "      <td>1950</td>\n",
       "      <td>pop</td>\n",
       "      <td>hold time feel break feel untrue convince spea...</td>\n",
       "      <td>95</td>\n",
       "      <td>0.000598</td>\n",
       "      <td>0.063746</td>\n",
       "      <td>0.000598</td>\n",
       "      <td>...</td>\n",
       "      <td>0.380299</td>\n",
       "      <td>0.117175</td>\n",
       "      <td>0.357739</td>\n",
       "      <td>0.454119</td>\n",
       "      <td>0.997992</td>\n",
       "      <td>0.901822</td>\n",
       "      <td>0.339448</td>\n",
       "      <td>0.137110</td>\n",
       "      <td>sadness</td>\n",
       "      <td>1.0</td>\n",
       "    </tr>\n",
       "    <tr>\n",
       "      <th>1</th>\n",
       "      <td>4</td>\n",
       "      <td>frankie laine</td>\n",
       "      <td>i believe</td>\n",
       "      <td>1950</td>\n",
       "      <td>pop</td>\n",
       "      <td>believe drop rain fall grow believe darkest ni...</td>\n",
       "      <td>51</td>\n",
       "      <td>0.035537</td>\n",
       "      <td>0.096777</td>\n",
       "      <td>0.443435</td>\n",
       "      <td>...</td>\n",
       "      <td>0.001284</td>\n",
       "      <td>0.001284</td>\n",
       "      <td>0.331745</td>\n",
       "      <td>0.647540</td>\n",
       "      <td>0.954819</td>\n",
       "      <td>0.000002</td>\n",
       "      <td>0.325021</td>\n",
       "      <td>0.263240</td>\n",
       "      <td>world/life</td>\n",
       "      <td>1.0</td>\n",
       "    </tr>\n",
       "    <tr>\n",
       "      <th>2</th>\n",
       "      <td>6</td>\n",
       "      <td>johnnie ray</td>\n",
       "      <td>cry</td>\n",
       "      <td>1950</td>\n",
       "      <td>pop</td>\n",
       "      <td>sweetheart send letter goodbye secret feel bet...</td>\n",
       "      <td>24</td>\n",
       "      <td>0.002770</td>\n",
       "      <td>0.002770</td>\n",
       "      <td>0.002770</td>\n",
       "      <td>...</td>\n",
       "      <td>0.002770</td>\n",
       "      <td>0.225422</td>\n",
       "      <td>0.456298</td>\n",
       "      <td>0.585288</td>\n",
       "      <td>0.840361</td>\n",
       "      <td>0.000000</td>\n",
       "      <td>0.351814</td>\n",
       "      <td>0.139112</td>\n",
       "      <td>music</td>\n",
       "      <td>1.0</td>\n",
       "    </tr>\n",
       "    <tr>\n",
       "      <th>3</th>\n",
       "      <td>10</td>\n",
       "      <td>pérez prado</td>\n",
       "      <td>patricia</td>\n",
       "      <td>1950</td>\n",
       "      <td>pop</td>\n",
       "      <td>kiss lips want stroll charm mambo chacha merin...</td>\n",
       "      <td>54</td>\n",
       "      <td>0.048249</td>\n",
       "      <td>0.001548</td>\n",
       "      <td>0.001548</td>\n",
       "      <td>...</td>\n",
       "      <td>0.225889</td>\n",
       "      <td>0.001548</td>\n",
       "      <td>0.686992</td>\n",
       "      <td>0.744404</td>\n",
       "      <td>0.083935</td>\n",
       "      <td>0.199393</td>\n",
       "      <td>0.775350</td>\n",
       "      <td>0.743736</td>\n",
       "      <td>romantic</td>\n",
       "      <td>1.0</td>\n",
       "    </tr>\n",
       "    <tr>\n",
       "      <th>4</th>\n",
       "      <td>12</td>\n",
       "      <td>giorgos papadopoulos</td>\n",
       "      <td>apopse eida oneiro</td>\n",
       "      <td>1950</td>\n",
       "      <td>pop</td>\n",
       "      <td>till darling till matter know till dream live ...</td>\n",
       "      <td>48</td>\n",
       "      <td>0.001350</td>\n",
       "      <td>0.001350</td>\n",
       "      <td>0.417772</td>\n",
       "      <td>...</td>\n",
       "      <td>0.068800</td>\n",
       "      <td>0.001350</td>\n",
       "      <td>0.291671</td>\n",
       "      <td>0.646489</td>\n",
       "      <td>0.975904</td>\n",
       "      <td>0.000246</td>\n",
       "      <td>0.597073</td>\n",
       "      <td>0.394375</td>\n",
       "      <td>romantic</td>\n",
       "      <td>1.0</td>\n",
       "    </tr>\n",
       "  </tbody>\n",
       "</table>\n",
       "<p>5 rows × 31 columns</p>\n",
       "</div>"
      ],
      "text/plain": [
       "   Unnamed: 0           artist_name            track_name  release_date genre  \\\n",
       "0           0                mukesh  mohabbat bhi jhoothi          1950   pop   \n",
       "1           4         frankie laine             i believe          1950   pop   \n",
       "2           6           johnnie ray                   cry          1950   pop   \n",
       "3          10           pérez prado              patricia          1950   pop   \n",
       "4          12  giorgos papadopoulos    apopse eida oneiro          1950   pop   \n",
       "\n",
       "                                              lyrics  len    dating  violence  \\\n",
       "0  hold time feel break feel untrue convince spea...   95  0.000598  0.063746   \n",
       "1  believe drop rain fall grow believe darkest ni...   51  0.035537  0.096777   \n",
       "2  sweetheart send letter goodbye secret feel bet...   24  0.002770  0.002770   \n",
       "3  kiss lips want stroll charm mambo chacha merin...   54  0.048249  0.001548   \n",
       "4  till darling till matter know till dream live ...   48  0.001350  0.001350   \n",
       "\n",
       "   world/life  ...   sadness  feelings  danceability  loudness  acousticness  \\\n",
       "0    0.000598  ...  0.380299  0.117175      0.357739  0.454119      0.997992   \n",
       "1    0.443435  ...  0.001284  0.001284      0.331745  0.647540      0.954819   \n",
       "2    0.002770  ...  0.002770  0.225422      0.456298  0.585288      0.840361   \n",
       "3    0.001548  ...  0.225889  0.001548      0.686992  0.744404      0.083935   \n",
       "4    0.417772  ...  0.068800  0.001350      0.291671  0.646489      0.975904   \n",
       "\n",
       "   instrumentalness   valence    energy       topic  age  \n",
       "0          0.901822  0.339448  0.137110     sadness  1.0  \n",
       "1          0.000002  0.325021  0.263240  world/life  1.0  \n",
       "2          0.000000  0.351814  0.139112       music  1.0  \n",
       "3          0.199393  0.775350  0.743736    romantic  1.0  \n",
       "4          0.000246  0.597073  0.394375    romantic  1.0  \n",
       "\n",
       "[5 rows x 31 columns]"
      ]
     },
     "execution_count": 38,
     "metadata": {},
     "output_type": "execute_result"
    }
   ],
   "source": [
    "data = pd.read_csv('content/tcc_ceds_music.csv')\n",
    "data.head()\n"
   ]
  },
  {
   "cell_type": "code",
   "execution_count": null,
   "id": "0b983ff7",
   "metadata": {},
   "outputs": [],
   "source": [
    "## Just Random Testing Part for .csv extension files , retrieval.\n",
    "\n",
    "# import os\n",
    "# import glob\n",
    "\n",
    "\n",
    "# def get_csv_files_with_glob(folder_path):\n",
    "\n",
    "#     \"\"\" Retrieves all files with .csv extension in the given folder using glob.\n",
    "\n",
    "\n",
    "#     Args:\n",
    "#         folder_path : The path to the folder\n",
    "\n",
    "#     Returns:\n",
    "#         A list of strings , where each string is the full path to a CSV file. \n",
    "#     \"\"\"\n",
    "#     csv_files = glob.glob(os.path.join(folder_path,\"*.csv\"))\n",
    "\n",
    "#     return csv_files\n",
    "\n",
    "\n",
    "\n",
    "# def get_csv_files_with_os_walk(folder_path):\n",
    "#     \"\"\"\n",
    "#     Retrives all files with .csv extension in the given folder using os.walk\n",
    "\n",
    "#     Args:\n",
    "#         folder_path : The path to the folder\n",
    "\n",
    "#     Returns:\n",
    "#         A list of strings , where each string is the full path to a CSV file.\n",
    "    \n",
    "#     \"\"\"\n",
    "#     csv_files = []\n",
    "#     for dirpath , _ , filenames in os.walk(folder_path):\n",
    "#         for filename in filenames:\n",
    "#             if filename.endswith('.csv'):\n",
    "#                 csv_files.append(os.path.join(dirpath, filename))\n",
    "\n",
    "#     return csv_files"
   ]
  },
  {
   "cell_type": "code",
   "execution_count": 40,
   "id": "91cafaed",
   "metadata": {},
   "outputs": [
    {
     "name": "stdout",
     "output_type": "stream",
     "text": [
      "['content/tcc_ceds_music.csv'] ['content/tcc_ceds_music.csv']\n"
     ]
    }
   ],
   "source": [
    "filenames1 = get_csv_files_with_glob('content')\n",
    "\n",
    "filenames2 = get_csv_files_with_glob('content')\n",
    "\n",
    "\n",
    "print(filenames1 , filenames2)"
   ]
  },
  {
   "cell_type": "code",
   "execution_count": 41,
   "id": "e11894cb",
   "metadata": {},
   "outputs": [
    {
     "data": {
      "image/png": "[encoded data removed]",
      "text/plain": [
       "<Figure size 1000x600 with 1 Axes>"
      ]
     },
     "metadata": {},
     "output_type": "display_data"
    }
   ],
   "source": [
    "plt.figure(figsize=(10,6))\n",
    "sns.countplot(y='genre',data=data,\n",
    "              order=data['genre'].value_counts().index[:10])\n",
    "plt.title('Top 10 Genres')\n",
    "plt.xlabel('Count')\n",
    "plt.ylabel('Genre')\n",
    "plt.show()"
   ]
  },
  {
   "cell_type": "code",
   "execution_count": 42,
   "id": "25f6c235",
   "metadata": {},
   "outputs": [
    {
     "name": "stderr",
     "output_type": "stream",
     "text": [
      "/var/folders/9g/wd_d_pvd58g3ljrkcr8d0_cw0000gn/T/ipykernel_7579/1030958302.py:3: FutureWarning: \n",
      "\n",
      "Passing `palette` without assigning `hue` is deprecated and will be removed in v0.14.0. Assign the `y` variable to `hue` and set `legend=False` for the same effect.\n",
      "\n",
      "  sns.barplot(x=top_artists.values , y=top_artists.index, palette='viridis')\n"
     ]
    },
    {
     "data": {
      "image/png": "[encoded data removed]",
      "text/plain": [
       "<Figure size 1000x600 with 1 Axes>"
      ]
     },
     "metadata": {},
     "output_type": "display_data"
    }
   ],
   "source": [
    "top_artists = data.groupby('artist_name').size().sort_values(ascending=False).head(10)\n",
    "plt.figure(figsize=(10,6))\n",
    "sns.barplot(x=top_artists.values , y=top_artists.index, palette='viridis')\n",
    "plt.title('Top 10 Artsists by Number of Songs')\n",
    "plt.xlabel('Number of Songs')\n",
    "plt.ylabel('Artist Name')\n",
    "plt.show()"
   ]
  },
  {
   "cell_type": "markdown",
   "id": "4f5875c4",
   "metadata": {},
   "source": [
    "## Step 3: Preprocessing the data\n",
    "\n",
    "To build recommendation system , we process the data by combining relevant features and converting then into numerical vectors.\n",
    "\n",
    "\n",
    "Combine Features\n",
    "\n",
    "We concatenate the genre , artist_name and track_name columns into a single feature called combine_features.\n"
   ]
  },
  {
   "cell_type": "code",
   "execution_count": 43,
   "id": "7ecfa04f",
   "metadata": {},
   "outputs": [],
   "source": [
    "data['combined_features'] = (\n",
    "    data[\"genre\"].fillna('')+ ' ' +\n",
    "    data['artist_name'].fillna('') + ' ' +\n",
    "    data['track_name'].fillna('')\n",
    ")"
   ]
  },
  {
   "cell_type": "code",
   "execution_count": 44,
   "id": "3992a1a0",
   "metadata": {},
   "outputs": [],
   "source": [
    "tfidf = TfidfVectorizer(stop_words='english')\n",
    "tfidf_matrix = tfidf.fit_transform(data['combined_features'])\n",
    "\n",
    "\n",
    "cosine_sim = cosine_similarity(tfidf_matrix , tfidf_matrix)"
   ]
  },
  {
   "cell_type": "markdown",
   "id": "b7015904",
   "metadata": {},
   "source": [
    "## Compute Similarity Scores\n",
    "\n",
    "We compute the cosine similarity between songs based on their vectorized features."
   ]
  },
  {
   "cell_type": "code",
   "execution_count": 45,
   "id": "da2a0163",
   "metadata": {},
   "outputs": [],
   "source": [
    "def get_recommendations(song_title , data , cosine_sim , top_n=10):\n",
    "\n",
    "    # Get the index of the song that matches the title\n",
    "    idx = data[data['track_name'] == song_title].index\n",
    "    if len(idx) == 0:\n",
    "        print(\"Song not found in the dataset\")\n",
    "        return\n",
    "    \n",
    "    idx = idx[0]\n",
    "\n",
    "    print(f\"idx is\",idx)\n",
    "    sim_scores = list(enumerate(cosine_sim[idx]))\n",
    "\n",
    "    sim_scores = sorted(sim_scores , key=lambda x: x[1],reverse=True)\n",
    "\n",
    "    sim_scores = sim_scores[1:top_n+1]\n",
    "    song_indices = [i[0] for i in sim_scores]\n",
    "    \n",
    "    recommendations = data.iloc[song_indices]\n",
    "    return recommendations"
   ]
  },
  {
   "cell_type": "markdown",
   "id": "cd4dafa0",
   "metadata": {},
   "source": [
    "## Explanation\n",
    "\n",
    ". The function retrieves the index of the input song.\n",
    "\n",
    ". It computes similarity scores for all songs and sorts them in descending order.\n",
    "\n",
    ". It returns the top-N most similar songs.\n"
   ]
  },
  {
   "cell_type": "markdown",
   "id": "412fea32",
   "metadata": {},
   "source": [
    "# Step 4: Generate Recommendatiosn\n",
    "\n",
    "We use the get_recommendations function to recommend songs similar to a specific input song (eg:, 'cry')\n",
    "\n"
   ]
  },
  {
   "cell_type": "code",
   "execution_count": 46,
   "id": "18829503",
   "metadata": {},
   "outputs": [
    {
     "name": "stdout",
     "output_type": "stream",
     "text": [
      "idx is 2\n",
      "                          track_name     artist_name  genre\n",
      "56                         here am i     johnnie ray    pop\n",
      "12887             keep on loving you  johnnie taylor  blues\n",
      "15294              too many memories  johnnie taylor  blues\n",
      "14542  there's nothing i wouldn't do  johnnie taylor  blues\n",
      "14679                         lately  johnnie taylor  blues\n",
      "13887                     steal away  johnnie taylor  blues\n",
      "14701             don't make me late  johnnie taylor  blues\n",
      "12881           baby, we've got love  johnnie taylor  blues\n",
      "13247  i got to love somebody's baby  johnnie taylor  blues\n",
      "12882            i need lots of love  johnnie taylor  blues\n"
     ]
    }
   ],
   "source": [
    "recommended_songs = get_recommendations('cry', data , cosine_sim, top_n=10)\n",
    "print(recommended_songs[['track_name','artist_name','genre']])"
   ]
  },
  {
   "cell_type": "markdown",
   "id": "adff0675",
   "metadata": {},
   "source": [
    "## Step 5: Visualize Recommendations\n",
    "\n",
    "Finally , we visualize the recommeded songs using bar chart."
   ]
  },
  {
   "cell_type": "code",
   "execution_count": 47,
   "id": "66e8d483",
   "metadata": {},
   "outputs": [
    {
     "name": "stderr",
     "output_type": "stream",
     "text": [
      "/var/folders/9g/wd_d_pvd58g3ljrkcr8d0_cw0000gn/T/ipykernel_7579/3950399580.py:2: FutureWarning: \n",
      "\n",
      "Passing `palette` without assigning `hue` is deprecated and will be removed in v0.14.0. Assign the `x` variable to `hue` and set `legend=False` for the same effect.\n",
      "\n",
      "  sns.barplot(y='track_name',x='artist_name' ,\n"
     ]
    },
    {
     "data": {
      "image/png": "[encoded data removed]",
      "text/plain": [
       "<Figure size 1000x600 with 1 Axes>"
      ]
     },
     "metadata": {},
     "output_type": "display_data"
    }
   ],
   "source": [
    "plt.figure(figsize=(10,6))\n",
    "sns.barplot(y='track_name',x='artist_name' , \n",
    "            data = recommended_songs , palette='coolwarm')\n",
    "plt.title('Recommended Songs Similar to \"Cry\"')\n",
    "plt.xlabel('Artist Name')\n",
    "plt.ylabel('Song Name')\n",
    "plt.show()"
   ]
  },
  {
   "cell_type": "code",
   "execution_count": null,
   "id": "cce5409e",
   "metadata": {},
   "outputs": [],
   "source": []
  }
 ],
 "metadata": {
  "kernelspec": {
   "display_name": "music_recommend_venv",
   "language": "python",
   "name": "python3"
  },
  "language_info": {
   "codemirror_mode": {
    "name": "ipython",
    "version": 3
   },
   "file_extension": ".py",
   "mimetype": "text/x-python",
   "name": "python",
   "nbconvert_exporter": "python",
   "pygments_lexer": "ipython3",
   "version": "3.13.0"
  }
 },
 "nbformat": 4,
 "nbformat_minor": 5
}
