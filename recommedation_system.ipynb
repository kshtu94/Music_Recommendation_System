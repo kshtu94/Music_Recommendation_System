{
 "cells": [
  {
   "cell_type": "markdown",
   "id": "e0bb5b08",
   "metadata": {},
   "source": [
    "## We will utilize \"TCC CEDs Music Dataset\" which contains metadata about songs , including their genres , artists and lyrics"
   ]
  },
  {
   "cell_type": "markdown",
   "id": "dfffa280",
   "metadata": {},
   "source": []
  }
 ],
 "metadata": {
  "language_info": {
   "name": "python"
  }
 },
 "nbformat": 4,
 "nbformat_minor": 5
}
